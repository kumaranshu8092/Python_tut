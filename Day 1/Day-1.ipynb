# print("Day-1 Python Print Function \nThe Function is declared like this: \nPrint('What to print')")
"""print("Day 1- String Manipulation")
print("String Concatenation is done with the '+' sign.")
print('e.g. print("Hello"+"world")')
print("New Lines Can be created with a backslach and n")"""
# print("hello "+ input("What is you name? "))
# exercise 1.3 to print the no of alphabets in the given name
'''name=input("What is your name?")
print("The name you entered is:",name)
len_of_name =len(name)
print("No of alphabets in the name =",len_of_name)'''
# print("number of alphabet in the given name is: ",len(input("What is your name")))
# exercise 1.4
a = input("Enter a: ")
b = input("Enter b: ")

a=int(a)
b=int(b)
# 1st add both the number
a = a + b
# get b from the sum
b = a - b
# get a from the sum
a = a - b

print("a = ",a)
print("b = ",b)
